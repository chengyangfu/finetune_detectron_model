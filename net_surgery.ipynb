{
 "cells": [
  {
   "cell_type": "markdown",
   "metadata": {},
   "source": [
    "Finetune the detectron models pretrained on COCO dataset to the new datasets."
   ]
  },
  {
   "cell_type": "markdown",
   "metadata": {},
   "source": [
    "First, select the model. \n",
    "We use the R-50-FPN Mask 2x from the follow website and download the model.\n",
    "https://github.com/facebookresearch/Detectron/blob/master/MODEL_ZOO.md"
   ]
  },
  {
   "cell_type": "code",
   "execution_count": 1,
   "metadata": {},
   "outputs": [
    {
     "data": {
      "text/plain": [
       "0"
      ]
     },
     "execution_count": 1,
     "metadata": {},
     "output_type": "execute_result"
    }
   ],
   "source": [
    "import os\n",
    "import pickle\n",
    "\n",
    "os.system('wget https://s3-us-west-2.amazonaws.com/detectron/35859007/12_2017_baselines/e2e_mask_rcnn_R-50-FPN_2x.yaml.01_49_07.By8nQcCH/output/train/coco_2014_train%3Acoco_2014_valminusminival/generalized_rcnn/model_final.pkl')\n",
    "\n"
   ]
  },
  {
   "cell_type": "markdown",
   "metadata": {},
   "source": [
    "Then, remove the dataset-dependent layers. In this case, we need to remove the following entries in the model."
   ]
  },
  {
   "cell_type": "code",
   "execution_count": null,
   "metadata": {},
   "outputs": [],
   "source": [
    "#Load the model\n",
    "model = pickle.load(open('./model_final.pkl', 'rb'))\n",
    "\n",
    "#Remove the weights of bbox prediction layers.\n",
    "\n",
    "del model['blobs']['cls_score_w']\n",
    "del model['blobs']['cls_score_b']\n",
    "del model['blobs']['cls_score_w_momentum']\n",
    "del model['blobs']['cls_score_b_momentum']\n",
    "\n",
    "del model['blobs']['bbox_pred_w']\n",
    "del model['blobs']['bbox_pred_b']\n",
    "del model['blobs']['bbox_pred_w_momentum']\n",
    "del model['blobs']['bbox_pred_b_momentum']\n",
    "\n",
    "#Remove the weights of Mask prediction layers.\n",
    "del model['blobs']['mask_fcn_logits_w']\n",
    "del model['blobs']['mask_fcn_logits_b']\n",
    "del model['blobs']['mask_fcn_logits_w_momentum']\n",
    "del model['blobs']['mask_fcn_logits_b_momentum']\n",
    "\n",
    "for name in model['blobs'].keys():\n",
    "    print(name, model['blobs'][name].shape)\n",
    "\n",
    "#Save the modified model. \n",
    "pickle.dump(model, open('modified_model_final.pkl', 'wb'))\n"
   ]
  },
  {
   "cell_type": "markdown",
   "metadata": {},
   "source": [
    "That's it! \n",
    "Then you can start training by using this modified model. "
   ]
  }
 ],
 "metadata": {
  "kernelspec": {
   "display_name": "Python 2",
   "language": "python",
   "name": "python2"
  },
  "language_info": {
   "codemirror_mode": {
    "name": "ipython",
    "version": 2
   },
   "file_extension": ".py",
   "mimetype": "text/x-python",
   "name": "python",
   "nbconvert_exporter": "python",
   "pygments_lexer": "ipython2",
   "version": "2.7.12"
  }
 },
 "nbformat": 4,
 "nbformat_minor": 2
}
